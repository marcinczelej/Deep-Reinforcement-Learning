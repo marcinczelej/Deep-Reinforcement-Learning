{
 "cells": [
  {
   "cell_type": "code",
   "execution_count": 1,
   "metadata": {},
   "outputs": [],
   "source": [
    "import gym\n",
    "import numpy as np\n",
    "from collections import defaultdict, deque"
   ]
  },
  {
   "cell_type": "code",
   "execution_count": null,
   "metadata": {},
   "outputs": [],
   "source": []
  },
  {
   "cell_type": "code",
   "execution_count": 2,
   "metadata": {},
   "outputs": [],
   "source": [
    "class agent():\n",
    "    def __init__(self, action_size, epsilon = 0.4, alpha = 0.3, alphaChange = 1, minAlpha = 0.3):\n",
    "        self.action_size = action_size\n",
    "        self.epsilon = epsilon\n",
    "        self.alpha = alpha\n",
    "        self.alpha_change = alphaChange\n",
    "        self.alpha_min = minAlpha\n",
    "        self.Q = defaultdict(lambda: np.zeros(self.action_size))\n",
    "        self.gamma = 1.0\n",
    "        self.gamma_min = 0.1\n",
    "        self.gamma_change = 0.995\n",
    "        self.gamma_change_interval = 5000\n",
    "\n",
    "        self.adjustAlpha = lambda: self.alpha_min if self.alpha*self.alpha_change> self.alpha_min else self.alpha*self.alpha_change\n",
    "        self.adjustGamma = lambda: self.gamma_min if self.gamma*self.gamma_change > self.gamma_min else self.gamma*self.gamma_change\n",
    "        \n",
    "    def selectAction(self, state, episodeNr):\n",
    "        eps =self.epsilon/episodeNr\n",
    "        policy = np.ones(self.action_size)*eps/self.action_size\n",
    "        max_action = np.argmax(self.Q[state])\n",
    "        policy[max_action] = 1 - eps + eps/self.action_size\n",
    "        action_choosen = np.random.choice(np.arange(self.action_size), p=policy)\n",
    "        return action_choosen, policy\n",
    "    \n",
    "    def stepSARSA(self, state, action, reward, next_state, done, episodeNr):\n",
    "        if done == True:\n",
    "            self.Q[state][action] = self.Q[state][action] + self.alpha*(reward - self.Q[state][action])\n",
    "            if episodeNr == self.gamma_change_interval:\n",
    "                self.gamma = self.adjustGamma()\n",
    "            return\n",
    "        \n",
    "        next_action, _ = self.selectAction(next_state, episodeNr)\n",
    "        self.Q[state][action] = self.Q[state][action] + self.alpha*(reward + self.gamma*self.Q[next_state][next_action] - self.Q[state][action])\n",
    "        #self.alpha = self.adjustAlpha()\n",
    "        if episodeNr == self.gamma_change_interval:\n",
    "            self.gamma = self.adjustGamma()\n",
    "        return\n",
    "    \n",
    "    def stepSARSAMax(self, state, action, reward, next_state, done, episodeNr):\n",
    "        if done == True:\n",
    "            self.Q[state][action] = self.Q[state][action] + self.alpha*(reward-self.Q[state][action])\n",
    "            if episodeNr == self.gamma_change_interval:\n",
    "                self.gamma = self.adjustGamma()\n",
    "            return\n",
    "        \n",
    "        self.Q[state][action] = self.Q[state][action] + self.alpha*(reward + self.gamma*self.Q[next_state][np.argmax(self.Q[next_state])] - self.Q[state][action])\n",
    "        #self.alpha = self.adjustAlpha()\n",
    "        if episodeNr == self.gamma_change_interval:\n",
    "            self.gamma = self.adjustGamma()\n",
    "        return\n",
    "    \n",
    "    def stepExpectedSARSA(self, state, action, reward, next_state, done, episodeNr):\n",
    "        if done == True:\n",
    "            self.Q[state][action] = self.Q[state][action] + self.alpha*(reward-self.Q[state][action])\n",
    "            if episodeNr == self.gamma_change_interval:\n",
    "                self.gamma = self.adjustGamma()\n",
    "            return\n",
    "        \n",
    "        _, policy = self.selectAction(next_state, episodeNr)\n",
    "        \n",
    "        expectedTab = np.dot(policy, self.Q[next_state])\n",
    "        self.Q[state][action] = self.Q[state][action] + self.alpha*(reward + self.gamma*expectedTab - self.Q[state][action])\n",
    "        #self.alpha = self.adjustAlpha()\n",
    "        if episodeNr == self.gamma_change_interval:\n",
    "            self.gamma = self.adjustGamma()\n",
    "        return"
   ]
  },
  {
   "cell_type": "code",
   "execution_count": 4,
   "metadata": {},
   "outputs": [
    {
     "name": "stdout",
     "output_type": "stream",
     "text": [
      "5000  average reward =  8.16  best avr reward =  9.16\n",
      "10000  average reward =  8.49  best avr reward =  9.22\n",
      "ended in  12231\n"
     ]
    }
   ],
   "source": [
    "env = gym.make('Taxi-v2')\n",
    "Agent = agent(env.action_space.n)\n",
    "\n",
    "results = deque(maxlen=100)\n",
    "desired_avr = 9.7\n",
    "best_avr = -10000\n",
    "episode = 0\n",
    "\n",
    "while True:\n",
    "    episode += 1\n",
    "    state = env.reset()\n",
    "    episode_reward = 0\n",
    "    while True:\n",
    "        action, _ = Agent.selectAction(state, episode)\n",
    "        next_state, reward, done, _ = env.step(action)\n",
    "        episode_reward += reward\n",
    "        Agent.stepExpectedSARSA(state, action, reward, next_state, done, episode)\n",
    "        if done == True:\n",
    "            results.append(episode_reward)\n",
    "            break\n",
    "        state = next_state\n",
    "    if np.mean(results) > best_avr:\n",
    "        best_avr = np.mean(results)\n",
    "    if episode >=100 and episode%5000 == 0:\n",
    "        print(episode, \" average reward = \", np.mean(results), \" best avr reward = \", best_avr)\n",
    "        \n",
    "    if episode >=100 and np.mean(results) >=9.3:\n",
    "        print(\"ended in \", episode)\n",
    "        break\n",
    "    "
   ]
  },
  {
   "cell_type": "code",
   "execution_count": null,
   "metadata": {},
   "outputs": [],
   "source": []
  }
 ],
 "metadata": {
  "kernelspec": {
   "display_name": "Python 3",
   "language": "python",
   "name": "python3"
  },
  "language_info": {
   "codemirror_mode": {
    "name": "ipython",
    "version": 3
   },
   "file_extension": ".py",
   "mimetype": "text/x-python",
   "name": "python",
   "nbconvert_exporter": "python",
   "pygments_lexer": "ipython3",
   "version": "3.6.3"
  }
 },
 "nbformat": 4,
 "nbformat_minor": 2
}
