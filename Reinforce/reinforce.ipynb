{
 "cells": [
  {
   "cell_type": "code",
   "execution_count": 1,
   "metadata": {},
   "outputs": [],
   "source": [
    "from collections import deque\n",
    "import gym\n",
    "import numpy as np\n",
    "import torch\n",
    "from torch.distributions import Categorical\n",
    "import torch.nn as nn\n",
    "import torch.nn.functional as F\n",
    "import torch.optim as optim"
   ]
  },
  {
   "cell_type": "code",
   "execution_count": 2,
   "metadata": {},
   "outputs": [],
   "source": [
    "env = gym.make(\"CartPole-v0\")\n",
    "device = torch.device(\"cuda\" if torch.cuda.is_available() else \"cpu\")"
   ]
  },
  {
   "cell_type": "code",
   "execution_count": 3,
   "metadata": {},
   "outputs": [],
   "source": [
    "class Policy(nn.Module):\n",
    "    def __init__(self, action_space, state_space, device):\n",
    "        super(Policy, self).__init__()\n",
    "        \n",
    "        self.layer_1 = nn.Linear(state_space, 16)\n",
    "        self.layer_2 = nn.Linear(16, action_space)\n",
    "        \n",
    "    def forward(self, input):\n",
    "        input = torch.from_numpy(input).float().unsqueeze(0).to(device)\n",
    "        x = F.relu(self.layer_1(input))\n",
    "        x = self.layer_2(x)\n",
    "        \n",
    "        x = F.softmax(x, dim=1)\n",
    "        \n",
    "        prob = Categorical(x)\n",
    "        action = prob.sample()\n",
    "        \n",
    "        return action.item(), prob.log_prob(action)"
   ]
  },
  {
   "cell_type": "code",
   "execution_count": 6,
   "metadata": {},
   "outputs": [
    {
     "name": "stdout",
     "output_type": "stream",
     "text": [
      "100  reward =  78.0  | loss =  tensor(3930.6082)  | last 100 mean =  24.26\n",
      "200  reward =  72.0  | loss =  tensor(2360.4834)  | last 100 mean =  43.28\n",
      "300  reward =  31.0  | loss =  tensor(414.5602)  | last 100 mean =  79.09\n",
      "400  reward =  111.0  | loss =  tensor(5097.8750)  | last 100 mean =  63.39\n",
      "500  reward =  138.0  | loss =  tensor(5961.4658)  | last 100 mean =  159.15\n",
      "600  reward =  145.0  | loss =  tensor(7026.8066)  | last 100 mean =  150.11\n",
      "700  reward =  137.0  | loss =  tensor(6488.4985)  | last 100 mean =  153.47\n",
      "800  reward =  41.0  | loss =  tensor(750.6959)  | last 100 mean =  95.91\n",
      "900  reward =  93.0  | loss =  tensor(3113.0166)  | last 100 mean =  75.91\n",
      "1000  reward =  139.0  | loss =  tensor(6933.0977)  | last 100 mean =  106.52\n",
      "1100  reward =  200.0  | loss =  tensor(9824.3594)  | last 100 mean =  183.03\n",
      "AI won in episode  1119  with score  190.14\n"
     ]
    }
   ],
   "source": [
    "agent = Policy(2,4,device)\n",
    "last_results = deque(maxlen=100)\n",
    "optimizer = optim.Adam(agent.parameters(), lr = 0.01)\n",
    "gamma = 1.0\n",
    "episode = 0\n",
    "\n",
    "while True:\n",
    "    state = env.reset()\n",
    "    rewards = []\n",
    "    log_probs = []\n",
    "    episode += 1\n",
    "    while True:\n",
    "        action, log_prob = agent(state)\n",
    "        log_probs.append(log_prob)\n",
    "        state, reward, done, _ = env.step(action)\n",
    "        rewards.append(reward)\n",
    "        if done:\n",
    "            break\n",
    "    last_results.append(np.sum(rewards))\n",
    "    discount_factor = [gamma**i for i in range(len(rewards)+1)]\n",
    "    discounted_reward = np.sum([reward*discount for reward, discount in zip(rewards, discount_factor)])\n",
    "    \n",
    "    log_loss = []\n",
    "    for log in log_probs:\n",
    "        log_loss.append(-log*discounted_reward)\n",
    "    log_loss = torch.cat(log_loss).sum()\n",
    "    \n",
    "    optimizer.zero_grad()\n",
    "    log_loss.backward()\n",
    "    optimizer.step()\n",
    "    \n",
    "    if np.mean(last_results) >= 190.0:\n",
    "        print(\"AI won in episode \", episode, \" with score \", np.mean(last_results))\n",
    "        break\n",
    "    if episode%100 == 0:\n",
    "        print(episode, \" reward = \", np.sum(rewards), \" | loss = \", log_loss.data, \" | last 100 mean = \", np.mean(last_results))\n",
    "    "
   ]
  },
  {
   "cell_type": "code",
   "execution_count": null,
   "metadata": {},
   "outputs": [],
   "source": []
  }
 ],
 "metadata": {
  "kernelspec": {
   "display_name": "Python (deep_reinforcement)",
   "language": "python",
   "name": "deep_reinforcement"
  },
  "language_info": {
   "codemirror_mode": {
    "name": "ipython",
    "version": 3
   },
   "file_extension": ".py",
   "mimetype": "text/x-python",
   "name": "python",
   "nbconvert_exporter": "python",
   "pygments_lexer": "ipython3",
   "version": "3.7.3"
  }
 },
 "nbformat": 4,
 "nbformat_minor": 2
}
