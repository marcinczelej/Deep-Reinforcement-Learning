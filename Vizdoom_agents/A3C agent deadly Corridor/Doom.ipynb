{
 "cells": [
  {
   "cell_type": "code",
   "execution_count": 1,
   "metadata": {},
   "outputs": [],
   "source": [
    "import time\n",
    "from model import a3cNetwork\n",
    "import numpy as np\n",
    "from sharedOptimizer import sharedAdam\n",
    "from utility import *\n",
    "from train import train\n",
    "from test import test\n",
    "\n",
    "import torch\n",
    "import torch.multiprocessing as mp\n",
    "\n",
    "class params:\n",
    "    seed = 4\n",
    "    action_space = len(actions)\n",
    "    n_steps = 15\n",
    "    gamma = 0.99\n",
    "    tau = 0.95\n",
    "    lr = 0.0001\n",
    "    number_of_processes = 8\n",
    "    device = torch.device(\"cuda\" if torch.cuda.is_available() else \"cpu\")\n",
    "    solved_score = 1500"
   ]
  },
  {
   "cell_type": "code",
   "execution_count": null,
   "metadata": {
    "scrolled": false
   },
   "outputs": [
    {
     "name": "stdout",
     "output_type": "stream",
     "text": [
      "1 |reward: -37.29931640625 |max_reward: -999999999999 |ts: 110\n",
      "   NEW MAX saving model   : -37.29931640625\n",
      "2 |reward: 471.58799743652344 |max_reward: -37.29931640625 |ts: 114\n",
      "   NEW MAX saving model   : 471.58799743652344\n",
      "3 |reward: 798.7220458984375 |max_reward: 471.58799743652344 |ts: 165\n",
      "   NEW MAX saving model   : 798.7220458984375\n"
     ]
    }
   ],
   "source": [
    "shared_model = a3cNetwork(params.action_space)\n",
    "shared_model.share_memory()\n",
    "\n",
    "shared_optimizer = sharedAdam(shared_model.parameters(), lr = params.lr)\n",
    "\n",
    "processes = []\n",
    "p = mp.Process(target = test, args = (params, shared_model))\n",
    "p.start()\n",
    "processes.append(p)\n",
    "\n",
    "for i in range(params.number_of_processes):\n",
    "    p = mp.Process(target = train, args = (i, params, shared_model, shared_optimizer))\n",
    "    p.start()\n",
    "    processes.append(p)\n",
    "    time.sleep(0.2)\n",
    "for i in range(len(processes)):\n",
    "    p.join()\n",
    "    time.sleep(0.2)"
   ]
  },
  {
   "cell_type": "code",
   "execution_count": null,
   "metadata": {
    "scrolled": false
   },
   "outputs": [],
   "source": []
  },
  {
   "cell_type": "code",
   "execution_count": null,
   "metadata": {},
   "outputs": [],
   "source": []
  },
  {
   "cell_type": "code",
   "execution_count": null,
   "metadata": {},
   "outputs": [],
   "source": []
  },
  {
   "cell_type": "code",
   "execution_count": null,
   "metadata": {},
   "outputs": [],
   "source": []
  },
  {
   "cell_type": "code",
   "execution_count": null,
   "metadata": {},
   "outputs": [],
   "source": []
  }
 ],
 "metadata": {
  "kernelspec": {
   "display_name": "Python (deep_reinforcement)",
   "language": "python",
   "name": "deep_reinforcement"
  },
  "language_info": {
   "codemirror_mode": {
    "name": "ipython",
    "version": 3
   },
   "file_extension": ".py",
   "mimetype": "text/x-python",
   "name": "python",
   "nbconvert_exporter": "python",
   "pygments_lexer": "ipython3",
   "version": "3.7.3"
  }
 },
 "nbformat": 4,
 "nbformat_minor": 2
}
