{
 "cells": [
  {
   "cell_type": "code",
   "execution_count": 1,
   "metadata": {},
   "outputs": [],
   "source": [
    "import time\n",
    "from model import a3cNetwork\n",
    "import numpy as np\n",
    "from sharedOptimizer import sharedAdam\n",
    "from utility import *\n",
    "from train import train\n",
    "from test import test\n",
    "\n",
    "import torch\n",
    "import torch.multiprocessing as mp\n",
    "\n",
    "class params:\n",
    "    seed = 4\n",
    "    action_space = len(actions)\n",
    "    n_steps = 15\n",
    "    gamma = 0.99\n",
    "    tau = 0.95\n",
    "    lr = 0.0001\n",
    "    number_of_processes = 1\n",
    "    device = torch.device(\"cuda\" if torch.cuda.is_available() else \"cpu\")\n",
    "    solved_score = 1500"
   ]
  },
  {
   "cell_type": "code",
   "execution_count": null,
   "metadata": {
    "scrolled": false
   },
   "outputs": [
    {
     "name": "stdout",
     "output_type": "stream",
     "text": [
      "1 |reward: 220.79263305664062 |max_reward: -999999999999 |ts: 306\n",
      "   NEW MAX saving model   : 220.79263305664062\n",
      "2 |reward: -2.077545166015625 |max_reward: 220.79263305664062 |ts: 115\n",
      "3 |reward: 450.8531951904297 |max_reward: 220.79263305664062 |ts: 109\n",
      "   NEW MAX saving model   : 450.8531951904297\n",
      "4 |reward: 2278.656234741211 |max_reward: 450.8531951904297 |ts: 215\n",
      "   NEW MAX saving model   : 2278.656234741211\n",
      "Solved in episode  4\n"
     ]
    }
   ],
   "source": [
    "shared_model = a3cNetwork(params.action_space)\n",
    "shared_model.share_memory()\n",
    "\n",
    "shared_optimizer = sharedAdam(shared_model.parameters(), lr = params.lr)\n",
    "\n",
    "processes = []\n",
    "p = mp.Process(target = test, args = (params, shared_model))\n",
    "p.start()\n",
    "processes.append(p)\n",
    "\n",
    "for i in range(params.number_of_processes):\n",
    "    p = mp.Process(target = train, args = (i, params, shared_model, shared_optimizer))\n",
    "    p.start()\n",
    "    processes.append(p)\n",
    "    time.sleep(0.2)\n",
    "for i in range(len(processes)):\n",
    "    p.join()\n",
    "    time.sleep(0.2)"
   ]
  },
  {
   "cell_type": "code",
   "execution_count": null,
   "metadata": {
    "scrolled": false
   },
   "outputs": [],
   "source": []
  },
  {
   "cell_type": "code",
   "execution_count": null,
   "metadata": {},
   "outputs": [],
   "source": []
  },
  {
   "cell_type": "code",
   "execution_count": null,
   "metadata": {},
   "outputs": [],
   "source": []
  },
  {
   "cell_type": "code",
   "execution_count": null,
   "metadata": {},
   "outputs": [],
   "source": []
  },
  {
   "cell_type": "code",
   "execution_count": null,
   "metadata": {},
   "outputs": [],
   "source": []
  }
 ],
 "metadata": {
  "kernelspec": {
   "display_name": "Python (deep_reinforcement)",
   "language": "python",
   "name": "deep_reinforcement"
  },
  "language_info": {
   "codemirror_mode": {
    "name": "ipython",
    "version": 3
   },
   "file_extension": ".py",
   "mimetype": "text/x-python",
   "name": "python",
   "nbconvert_exporter": "python",
   "pygments_lexer": "ipython3",
   "version": "3.7.3"
  }
 },
 "nbformat": 4,
 "nbformat_minor": 2
}
