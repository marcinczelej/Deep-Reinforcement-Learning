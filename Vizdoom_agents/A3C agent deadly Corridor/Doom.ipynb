{
 "cells": [
  {
   "cell_type": "code",
   "execution_count": 1,
   "metadata": {},
   "outputs": [],
   "source": [
    "import time\n",
    "from model import a3cNetwork\n",
    "import numpy as np\n",
    "from sharedOptimizer import sharedAdam\n",
    "from utility import *\n",
    "from train import train\n",
    "from test import test\n",
    "\n",
    "import torch\n",
    "import torch.multiprocessing as mp\n",
    "\n",
    "class params:\n",
    "    seed = 4\n",
    "    action_space = len(actions)\n",
    "    n_steps = 15\n",
    "    gamma = 0.99\n",
    "    tau = 0.95\n",
    "    lr = 0.0001\n",
    "    number_of_processes = 8\n",
    "    device = torch.device(\"cuda\" if torch.cuda.is_available() else \"cpu\")\n",
    "    solved_score = 1500"
   ]
  },
  {
   "cell_type": "code",
   "execution_count": null,
   "metadata": {
    "scrolled": true
   },
   "outputs": [
    {
     "name": "stdout",
     "output_type": "stream",
     "text": [
      "1 |reward: -3.9147491455078125 |max_reward: -999999999999 |ts: 149\n",
      "   NEW MAX saving model   : -3.9147491455078125\n",
      "2 |reward: 39.47364807128906 |max_reward: -3.9147491455078125 |ts: 164\n",
      "   NEW MAX saving model   : 39.47364807128906\n",
      "3 |reward: 57.260833740234375 |max_reward: 39.47364807128906 |ts: 113\n",
      "   NEW MAX saving model   : 57.260833740234375\n",
      "4 |reward: 986.7048950195312 |max_reward: 57.260833740234375 |ts: 148\n",
      "   NEW MAX saving model   : 986.7048950195312\n",
      "5 |reward: 1001.7710723876953 |max_reward: 986.7048950195312 |ts: 179\n",
      "   NEW MAX saving model   : 1001.7710723876953\n",
      "6 |reward: 656.9196472167969 |max_reward: 1001.7710723876953 |ts: 108\n",
      "7 |reward: 1019.7662658691406 |max_reward: 1001.7710723876953 |ts: 155\n",
      "   NEW MAX saving model   : 1019.7662658691406\n"
     ]
    }
   ],
   "source": [
    "shared_model = a3cNetwork(params.action_space)\n",
    "shared_model.share_memory()\n",
    "\n",
    "shared_optimizer = sharedAdam(shared_model.parameters(), lr = params.lr)\n",
    "\n",
    "processes = []\n",
    "p = mp.Process(target = test, args = (params, shared_model))\n",
    "p.start()\n",
    "processes.append(p)\n",
    "\n",
    "for i in range(params.number_of_processes):\n",
    "    p = mp.Process(target = train, args = (i, params, shared_model, shared_optimizer))\n",
    "    p.start()\n",
    "    processes.append(p)\n",
    "    time.sleep(0.2)\n",
    "for i in range(len(processes)):\n",
    "    p.join()\n",
    "    time.sleep(0.2)"
   ]
  },
  {
   "cell_type": "code",
   "execution_count": null,
   "metadata": {
    "scrolled": false
   },
   "outputs": [],
   "source": []
  },
  {
   "cell_type": "code",
   "execution_count": null,
   "metadata": {},
   "outputs": [],
   "source": []
  },
  {
   "cell_type": "code",
   "execution_count": null,
   "metadata": {},
   "outputs": [],
   "source": []
  },
  {
   "cell_type": "code",
   "execution_count": null,
   "metadata": {},
   "outputs": [],
   "source": []
  },
  {
   "cell_type": "code",
   "execution_count": null,
   "metadata": {},
   "outputs": [],
   "source": []
  }
 ],
 "metadata": {
  "kernelspec": {
   "display_name": "Python (deep_reinforcement)",
   "language": "python",
   "name": "deep_reinforcement"
  },
  "language_info": {
   "codemirror_mode": {
    "name": "ipython",
    "version": 3
   },
   "file_extension": ".py",
   "mimetype": "text/x-python",
   "name": "python",
   "nbconvert_exporter": "python",
   "pygments_lexer": "ipython3",
   "version": "3.7.3"
  }
 },
 "nbformat": 4,
 "nbformat_minor": 2
}
