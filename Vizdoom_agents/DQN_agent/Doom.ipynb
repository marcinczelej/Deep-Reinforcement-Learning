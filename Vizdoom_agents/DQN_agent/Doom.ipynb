{
 "cells": [
  {
   "cell_type": "code",
   "execution_count": 20,
   "metadata": {},
   "outputs": [
    {
     "name": "stdout",
     "output_type": "stream",
     "text": [
      "[Button.TURN_LEFT, Button.TURN_RIGHT, Button.ATTACK]\n",
      "Creating dueling network\n"
     ]
    }
   ],
   "source": [
    "from vizdoom import *\n",
    "import random\n",
    "import time\n",
    "import matplotlib.pyplot as plt\n",
    "import matplotlib.image as mpimg\n",
    "import numpy as np\n",
    "import cv2 as cv\n",
    "from skimage import transform\n",
    "from utility import *\n",
    "\n",
    "from agent import DQN_agent\n",
    "import torch\n",
    "from torch.autograd import Variable\n",
    "from tensorboardX import SummaryWriter\n",
    "\n",
    "writer = SummaryWriter(log_dir = 'runs/defend_the_center')\n",
    "\n",
    "game = DoomGame()\n",
    "# change this for vizdoom defend_the_center path\n",
    "game.load_config(\"../../../Udacity/doom/scenarios/defend_the_center.cfg\")\n",
    "game.set_screen_format(ScreenFormat.GRAY8)\n",
    "game.add_available_game_variable(GameVariable.KILLCOUNT)\n",
    "game.init()\n",
    "\n",
    "print(game.get_available_buttons())\n",
    "\n",
    "agent = DQN_agent(len(actions), device, writer, is_dueling=True)\n"
   ]
  },
  {
   "cell_type": "code",
   "execution_count": 2,
   "metadata": {},
   "outputs": [
    {
     "name": "stdout",
     "output_type": "stream",
     "text": [
      "prepopulation start\n",
      "0\n"
     ]
    },
    {
     "name": "stderr",
     "output_type": "stream",
     "text": [
      "D:\\Anaconda\\envs\\drlnd\\lib\\site-packages\\skimage\\transform\\_warps.py:105: UserWarning: The default mode, 'constant', will be changed to 'reflect' in skimage 0.15.\n",
      "  warn(\"The default mode, 'constant', will be changed to 'reflect' in \"\n",
      "D:\\Anaconda\\envs\\drlnd\\lib\\site-packages\\skimage\\transform\\_warps.py:110: UserWarning: Anti-aliasing will be enabled by default in skimage 0.15 to avoid aliasing artifacts when down-sampling images.\n",
      "  warn(\"Anti-aliasing will be enabled by default in skimage 0.15 to \"\n"
     ]
    },
    {
     "name": "stdout",
     "output_type": "stream",
     "text": [
      "500\n",
      "1000\n",
      "1500\n",
      "2000\n",
      "2500\n",
      "3000\n",
      "3500\n",
      "4000\n",
      "4500\n",
      "5000\n",
      "5500\n",
      "6000\n",
      "6500\n",
      "7000\n",
      "7500\n",
      "8000\n",
      "8500\n",
      "9000\n",
      "9500\n",
      "prepopulation stop\n"
     ]
    }
   ],
   "source": [
    "prepopulate_buffer(game, agent)"
   ]
  },
  {
   "cell_type": "code",
   "execution_count": 3,
   "metadata": {
    "scrolled": false
   },
   "outputs": [
    {
     "name": "stdout",
     "output_type": "stream",
     "text": [
      "     100 mean result: 1.8  epsilon =  0.6057704364907278  reward:  5.0  max reward =  5.0\n",
      "     200 mean result: 6.3  epsilon =  0.3669578217261671  reward:  9.0  max reward =  11.0\n",
      "     300 mean result: 9.6  epsilon =  0.22229219984074702  reward:  9.0  max reward =  13.0\n",
      "     400 mean result: 14.6  epsilon =  0.1346580429260134  reward:  13.0  max reward =  18.0\n",
      "     500 mean result: 15.2  epsilon =  0.08157186144027828  reward:  16.0  max reward =  19.0\n",
      "     600 mean result: 16.5  epsilon =  0.0494138221100385  reward:  10.0  max reward =  22.0\n",
      "     700 mean result: 17.8  epsilon =  0.029933432588273214  reward:  17.0  max reward =  23.0\n",
      "Congratulations, your AI wins in episode  709\n"
     ]
    }
   ],
   "source": [
    "from collections import deque\n",
    "\n",
    "eps_start=1.0\n",
    "eps_end=0.01\n",
    "eps_decay=0.995\n",
    "\n",
    "epsilon = eps_start\n",
    "\n",
    "results = deque(maxlen=10)\n",
    "cx = Variable(torch.zeros(64, 40, device=device)) # the cell states of the LSTM are reinitialized to zero\n",
    "hx = Variable(torch.zeros(64, 40, device=device)) # the hidden states of the LSTM are reinitialized to \n",
    "episode = 0\n",
    "max_reward =0\n",
    "while True:\n",
    "    episode+=1\n",
    "    game.new_episode()\n",
    "    last_total_health = 100\n",
    "    last_ammo = game.get_game_variable(GameVariable.AMMO2)\n",
    "    while True:\n",
    "        next_state = state = game.get_state()\n",
    "        starting_state = state.screen_buffer\n",
    "        discounted_reward = 0\n",
    "        for i in range(params.n_steps):\n",
    "            state = next_state\n",
    "            img = state.screen_buffer\n",
    "            img = preprocess_frame(img)\n",
    "            health_delta = game.get_game_variable(GameVariable.HEALTH) - last_total_health\n",
    "            last_total_health = game.get_game_variable(GameVariable.HEALTH)\n",
    "        \n",
    "            ammo_delta = game.get_game_variable(GameVariable.AMMO2) - last_ammo\n",
    "            last_ammo = game.get_game_variable(GameVariable.AMMO2)\n",
    "                \n",
    "            selected_action = agent.select_action(img, epsilon, (hx[0].view(1,-1), cx[0].view(1,-1)))\n",
    "            if i == 0:\n",
    "                first_action = selected_action\n",
    "            action = actions[selected_action]\n",
    "            reward = game.make_action(action)\n",
    "            discounted_reward += (params.gamma**i)*(reward+healthReward(health_delta)+ammoReward(ammo_delta))\n",
    "            done = game.is_episode_finished()\n",
    "            if done:\n",
    "                break\n",
    "            next_state = game.get_state()\n",
    "        if done:\n",
    "            cx = Variable(torch.zeros(64, 40, device=device)) # the cell states of the LSTM are reinitialized to zero\n",
    "            hx = Variable(torch.zeros(64, 40, device=device)) # the hidden states of the LSTM are reinitialized to zero\n",
    "            next_img = np.zeros((84, 84), dtype='uint8')\n",
    "            (hx, cx) = agent.step(episode, preprocess_frame(starting_state), first_action, discounted_reward , next_img, done, hx, cx)\n",
    "            break\n",
    "        else:\n",
    "            cx = Variable(cx.data) # we keep the old cell states, making sure they are in a torch variable\n",
    "            hx = Variable(hx.data) # we keep the old hidden states, making sure they are in a torch variable\n",
    "        next_img = next_state.screen_buffer\n",
    "        next_img = preprocess_frame(next_img)\n",
    "        (hx, cx) = agent.step(episode, preprocess_frame(starting_state), first_action, discounted_reward , next_img, done, hx, cx)\n",
    "        state = next_state\n",
    "    # epsilon decay\n",
    "    epsilon = epsilon*eps_decay\n",
    "    if epsilon < eps_end:\n",
    "        epsilon = eps_end\n",
    "    # save each 500 episodes\n",
    "    if episode%500==0:\n",
    "        file_name = 'checkpoint_' + str(episode) + '.pth'\n",
    "        torch.save(agent.local_network.state_dict(), file_name)\n",
    "    if game.get_total_reward()> max_reward:\n",
    "        max_reward = game.get_total_reward()\n",
    "    results.append(game.get_total_reward())\n",
    "    writer.add_scalar('Game variables/Kills', game.get_game_variable(GameVariable.KILLCOUNT), episode)\n",
    "    if episode>=100:\n",
    "        writer.add_scalar('Reward Loss/Reward', np.mean(results), episode)\n",
    "    if episode>=10 and episode%100==0:\n",
    "        print (\"    \", episode, \"mean result:\", np.mean(results), \" epsilon = \", epsilon, \" reward: \", game.get_total_reward(), \" max reward = \" , max_reward)\n",
    "    if np.mean(results)>= 20:\n",
    "        print(\"Congratulations, your AI wins in episode \", episode)\n",
    "        break"
   ]
  },
  {
   "cell_type": "code",
   "execution_count": 4,
   "metadata": {},
   "outputs": [
    {
     "data": {
      "image/png": "[encoded data removed]",
      "text/plain": [
       "<Figure size 432x288 with 1 Axes>"
      ]
     },
     "metadata": {
      "needs_background": "light"
     },
     "output_type": "display_data"
    }
   ],
   "source": [
    "file_name = 'checkpoint_final.pth'\n",
    "torch.save(agent.local_network.state_dict(), file_name)\n",
    "\n",
    "fig = plt.figure()\n",
    "ax = fig.add_subplot(111)\n",
    "plt.plot(np.arange(len(results)), results)\n",
    "plt.ylabel('Score')\n",
    "plt.xlabel('Episode #')\n",
    "plt.show()\n",
    "fig.set_size_inches(18.5, 10.5)\n",
    "fig.savefig('result.png', dpi=100)"
   ]
  },
  {
   "cell_type": "code",
   "execution_count": 23,
   "metadata": {},
   "outputs": [
    {
     "name": "stdout",
     "output_type": "stream",
     "text": [
      "Creating dueling network\n",
      "Episode: \t0 \tScore: \t23.00\n",
      "Episode: \t1 \tScore: \t23.00\n",
      "Episode: \t2 \tScore: \t23.00\n",
      "Episode: \t3 \tScore: \t23.00\n",
      "Episode: \t4 \tScore: \t22.00\n",
      "Episode: \t5 \tScore: \t23.00\n",
      "Episode: \t6 \tScore: \t23.00\n",
      "Episode: \t7 \tScore: \t23.00\n",
      "Episode: \t8 \tScore: \t23.00\n",
      "Episode: \t9 \tScore: \t23.00\n"
     ]
    }
   ],
   "source": [
    "agent = DQN_agent(len(actions), device, writer, is_dueling=True)\n",
    "agent.predict_network.load_state_dict(torch.load('C:/Users/Marcin i Ewa/doom_DQL/Doom/DQN + priorityReplay/checkpoint_final.pth'))\n",
    "\n",
    "cx = Variable(torch.zeros(1, 40, device=device)) # the cell states of the LSTM are reinitialized to zero\n",
    "hx = Variable(torch.zeros(1, 40, device=device)) # the hidden states of the LSTM are reinitialized to \n",
    "\n",
    "for episode in range(10):\n",
    "    game.new_episode()\n",
    "    images = []\n",
    "    while True:\n",
    "        state = game.get_state()\n",
    "        img = state.screen_buffer\n",
    "        img = preprocess_frame(img)\n",
    "        misc = state.game_variables\n",
    "        selected_action = agent.select_action(img, 0., (hx, cx))\n",
    "        action = actions[selected_action]\n",
    "        reward = game.make_action(action)\n",
    "        done = game.is_episode_finished()\n",
    "        if done:\n",
    "            break\n",
    "        state = game.get_state()\n",
    "        time.sleep(0.01)\n",
    "    print('Episode: \\t{} \\tScore: \\t{:.2f}'.format(episode, game.get_total_reward()))"
   ]
  },
  {
   "cell_type": "code",
   "execution_count": null,
   "metadata": {},
   "outputs": [],
   "source": []
  },
  {
   "cell_type": "code",
   "execution_count": null,
   "metadata": {},
   "outputs": [],
   "source": []
  }
 ],
 "metadata": {
  "kernelspec": {
   "display_name": "drlnd",
   "language": "python",
   "name": "drlnd"
  },
  "language_info": {
   "codemirror_mode": {
    "name": "ipython",
    "version": 3
   },
   "file_extension": ".py",
   "mimetype": "text/x-python",
   "name": "python",
   "nbconvert_exporter": "python",
   "pygments_lexer": "ipython3",
   "version": "3.6.8"
  }
 },
 "nbformat": 4,
 "nbformat_minor": 2
}
