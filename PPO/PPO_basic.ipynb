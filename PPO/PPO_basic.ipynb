{
 "cells": [
  {
   "cell_type": "code",
   "execution_count": 9,
   "metadata": {},
   "outputs": [],
   "source": [
    "import numpy as np\n",
    "import torch\n",
    "from torch.distributions import Categorical\n",
    "import torch.multiprocessing as mp\n",
    "import torch.nn as nn\n",
    "import torch.nn.functional as F\n",
    "import torch.optim as optim\n",
    "import gym\n",
    "\n",
    "device = torch.device(\"cuda\" if torch.cuda.is_available() else \"cpu\")"
   ]
  },
  {
   "cell_type": "code",
   "execution_count": 34,
   "metadata": {},
   "outputs": [],
   "source": [
    "class Policy(nn.Module):\n",
    "    def __init__(self, state_size, action_size):\n",
    "        super(Policy, self).__init__()\n",
    "        \n",
    "        self.layer_1 = nn.Linear(state_size, 32)\n",
    "        self.layer_2 = nn.Linear(32, 16)\n",
    "        self.critic_layer = nn.Linear(16, 1)\n",
    "        self.actor_layer = nn.Linear(16, action_size)\n",
    "    \n",
    "    def forward(self, state):\n",
    "        if state.ndim == 1:\n",
    "            input =  torch.from_numpy(state).float().unsqueeze(0).to(\"cpu\")\n",
    "        else:\n",
    "            input =  torch.from_numpy(state).float().to(\"cpu\")\n",
    "        \n",
    "        x = F.relu(self.layer_1(input))\n",
    "        x = F.relu(self.layer_2(x))\n",
    "        \n",
    "        return self.actor_head(x), self.critic_layer(x)\n",
    "    \n",
    "    def actor_head(self, input_state):\n",
    "        x = self.actor_layer(input_state)\n",
    "        #print(\"input state = \", input_state)\n",
    "        #print(\" x = \", x)\n",
    "        prob = Categorical(logits = x)\n",
    "        #print(\"prob = \", prob)\n",
    "        action = prob.sample()\n",
    "        log_prob = prob.log_prob(action).unsqueeze(-1)\n",
    "        entropy = prob.entropy().unsqueeze(-1)\n",
    "        action = action.item() if len(action) == 1 else action.data.numpy()\n",
    "        return {\"action\": action, \"log_prob\":log_prob, \"entropy\":entropy}"
   ]
  },
  {
   "cell_type": "code",
   "execution_count": 35,
   "metadata": {},
   "outputs": [],
   "source": [
    "env = gym.make('CartPole-v0')\n",
    "old_policy = Policy(4, 2)\n",
    "new_policy = Policy(4, 2)\n",
    "optimizer = optim.Adam(new_policy.parameters(), lr=2e-4)"
   ]
  },
  {
   "cell_type": "code",
   "execution_count": 36,
   "metadata": {},
   "outputs": [],
   "source": [
    "def collect_trajectory(policy, env, max_steps):\n",
    "    rewards = []\n",
    "    values = []\n",
    "    states = []\n",
    "    dones = []\n",
    "    actions = []\n",
    "    entropys = []\n",
    "    log_probs = []\n",
    "\n",
    "    i = 0\n",
    "    done = True\n",
    "    state = env.reset()\n",
    "    reward_sum = 0\n",
    "    \n",
    "    while True:\n",
    "        actor, value = policy(state)\n",
    "        \n",
    "        if i > 0 and i >= max_steps:\n",
    "            yield {\"states\": states, \"actions\": actions, \"rewards\": rewards, \"log_probs\": log_probs,\n",
    "                  \"last_value\": value*(1-done), \"dones\":dones, \"values\":values}\n",
    "\n",
    "        actions.append(actor[\"action\"])\n",
    "        states.append(state)\n",
    "        values.append(value)\n",
    "        action = actor[\"action\"]\n",
    "        \n",
    "        state, reward, done, _ = env.step(action)\n",
    "\n",
    "        log_probs.append(actor[\"log_prob\"])\n",
    "        \n",
    "        dones.append(done)\n",
    "        rewards.append(reward)\n",
    "        reward_sum += reward\n",
    "        i+=1\n",
    "        if done:\n",
    "            reward_sum = 0\n",
    "            state = env.reset()\n",
    "\n",
    "def calculate_gae(obs, gamma, tau):\n",
    "    values = obs[\"values\"]\n",
    "    values.append(obs[\"last_value\"])\n",
    "    rewards = obs[\"rewards\"]\n",
    "    dones = obs[\"dones\"]\n",
    "    gae = torch.zeros(len(rewards))\n",
    "    refs = []\n",
    "    \n",
    "    last_gae = 0\n",
    "    for i in reversed(range(len(rewards))):\n",
    "        td_error = rewards[i] + gamma*values[i+1]*(1-dones[i]) - values[i]\n",
    "        gae[i] = gamma*tau*last_gae + td_error\n",
    "        last_gae = gae[i]\n",
    "        refs.append(last_gae - values[i])\n",
    "    obs[\"advantages\"] = torch.FloatTensor(gae).to(device)\n",
    "    obs[\"ref\"] = torch.FloatTensor(refs).to(device)"
   ]
  },
  {
   "cell_type": "code",
   "execution_count": 37,
   "metadata": {},
   "outputs": [],
   "source": [
    "data = collect_trajectory(old_policy, env, 10)\n",
    "observations = data.__next__()\n",
    "calculate_gae(observations, 1, 1)"
   ]
  },
  {
   "cell_type": "code",
   "execution_count": 38,
   "metadata": {},
   "outputs": [],
   "source": [
    "def surrogate_method(new_policy, obs, epsilon = 0.1, beta = 0.01):\n",
    "    \n",
    "    actions = torch.tensor(obs[\"actions\"], dtype=torch.int8, device=device)\n",
    "    states = torch.FloatTensor(obs[\"states\"]).to(device)\n",
    "    old_log_probs = torch.FloatTensor(obs[\"log_probs\"]).to(device)\n",
    "    \n",
    "    actor, value = new_policy(states.cpu().numpy())\n",
    "    \n",
    "    new_log_probs = torch.FloatTensor(actor[\"log_prob\"].squeeze(0)).to(device)\n",
    "    action = actor[\"action\"]\n",
    "    \n",
    "    ratio = torch.exp(new_log_probs - old_log_probs)\n",
    "    \n",
    "    normalized_adv = (obs[\"advantages\"] - obs[\"advantages\"].mean())/ (obs[\"advantages\"].std() + 1e-5)\n",
    "    \n",
    "    cliped_ratio = torch.clamp(ratio, 1-epsilon, 1+epsilon)*normalized_adv\n",
    "    no_clipped_ratio = ratio*normalized_adv\n",
    "    action_loss = -torch.min(no_clipped_ratio, cliped_ratio).mean()\n",
    "    policy_loss = (obs[\"ref\"] - value.to(device)).pow(2).mean()\n",
    "    \n",
    "    return torch.mean(ratio + policy_loss - beta*actor[\"entropy\"].to(device))"
   ]
  },
  {
   "cell_type": "code",
   "execution_count": 39,
   "metadata": {},
   "outputs": [
    {
     "name": "stdout",
     "output_type": "stream",
     "text": [
      "tensor(41.9892, grad_fn=<MeanBackward0>)\n"
     ]
    }
   ],
   "source": [
    "Loss = surrogate_method(new_policy, observations)\n",
    "print(Loss)"
   ]
  },
  {
   "cell_type": "code",
   "execution_count": 40,
   "metadata": {},
   "outputs": [],
   "source": [
    "def prepareEnviroment():\n",
    "    return 1"
   ]
  },
  {
   "cell_type": "code",
   "execution_count": null,
   "metadata": {},
   "outputs": [],
   "source": []
  }
 ],
 "metadata": {
  "kernelspec": {
   "display_name": "Python 3",
   "language": "python",
   "name": "python3"
  },
  "language_info": {
   "codemirror_mode": {
    "name": "ipython",
    "version": 3
   },
   "file_extension": ".py",
   "mimetype": "text/x-python",
   "name": "python",
   "nbconvert_exporter": "python",
   "pygments_lexer": "ipython3",
   "version": "3.7.3"
  }
 },
 "nbformat": 4,
 "nbformat_minor": 2
}
