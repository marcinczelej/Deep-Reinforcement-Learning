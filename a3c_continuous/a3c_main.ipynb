{
 "cells": [
  {
   "cell_type": "code",
   "execution_count": null,
   "metadata": {
    "scrolled": false
   },
   "outputs": [
    {
     "name": "stdout",
     "output_type": "stream",
     "text": [
      "observation =  24\n",
      "action_space =  Box(4,)\n",
      "1 |reward: -92.73437759753224 |last: -92.73437759753224 |max_reward: -10000000 |ts: 129\n",
      "   NEW MAX saving model   : -92.73437759753224\n",
      "2 |reward: -101.39227188159401 |last: -97.06332473956313 |max_reward: -92.73437759753224 |ts: 46\n",
      "3 |reward: -99.43122015604067 |last: -97.8526232117223 |max_reward: -92.73437759753224 |ts: 48\n",
      "4 |reward: -91.90953784665648 |last: -96.36685187045585 |max_reward: -92.73437759753224 |ts: 80\n",
      "   NEW MAX saving model   : -91.90953784665648\n",
      "5 |reward: -97.4424677848077 |last: -96.58197505332622 |max_reward: -91.90953784665648 |ts: 60\n",
      "6 |reward: -87.22111433220468 |last: -95.02183159980596 |max_reward: -91.90953784665648 |ts: 139\n",
      "   NEW MAX saving model   : -87.22111433220468\n",
      "7 |reward: -84.5259438574978 |last: -93.5224190651905 |max_reward: -87.22111433220468 |ts: 175\n",
      "   NEW MAX saving model   : -84.5259438574978\n",
      "8 |reward: 108.64920514514094 |last: -68.25096603889908 |max_reward: -84.5259438574978 |ts: 1399\n",
      "   NEW MAX saving model   : 108.64920514514094\n",
      "9 |reward: 33.196288466769744 |last: -56.979048871602544 |max_reward: 108.64920514514094 |ts: 736\n",
      "10 |reward: -0.026188672110762923 |last: -51.283762851653364 |max_reward: 108.64920514514094 |ts: 486\n",
      "11 |reward: -94.48782197654806 |last: -55.211404590280154 |max_reward: 108.64920514514094 |ts: 62\n",
      "12 |reward: -47.65730025703015 |last: -54.58189589584265 |max_reward: 108.64920514514094 |ts: 262\n",
      "13 |reward: -56.00492818732871 |last: -54.69135991826465 |max_reward: 108.64920514514094 |ts: 356\n",
      "14 |reward: -98.24463387693596 |last: -57.80230805816974 |max_reward: 108.64920514514094 |ts: 60\n",
      "15 |reward: -66.76868320066791 |last: -58.40006640100296 |max_reward: 108.64920514514094 |ts: 160\n",
      "16 |reward: 240.93049888674892 |last: -39.69190607051847 |max_reward: 108.64920514514094 |ts: 1600\n",
      "   NEW MAX saving model   : 240.93049888674892\n",
      "17 |reward: -65.83281764682135 |last: -41.22960675147746 |max_reward: 240.93049888674892 |ts: 186\n",
      "18 |reward: -83.86956440467698 |last: -43.59849328776633 |max_reward: 240.93049888674892 |ts: 116\n",
      "19 |reward: -25.539851363083656 |last: -42.64803844962514 |max_reward: 240.93049888674892 |ts: 386\n",
      "20 |reward: -30.963082106631262 |last: -42.063790632475445 |max_reward: 240.93049888674892 |ts: 313\n",
      "21 |reward: -29.532365679814177 |last: -41.46705611092015 |max_reward: 240.93049888674892 |ts: 388\n",
      "22 |reward: -51.52195435993559 |last: -41.924096940420846 |max_reward: 240.93049888674892 |ts: 232\n",
      "23 |reward: 74.16232751376441 |last: -36.8768610945867 |max_reward: 240.93049888674892 |ts: 743\n",
      "24 |reward: -53.12886382148662 |last: -37.5540278748742 |max_reward: 240.93049888674892 |ts: 220\n",
      "25 |reward: -63.41720211551152 |last: -38.58855484449969 |max_reward: 240.93049888674892 |ts: 207\n",
      "26 |reward: -38.60964852474879 |last: -38.58936613989388 |max_reward: 240.93049888674892 |ts: 240\n",
      "27 |reward: 290.60264120217823 |last: -26.397069571668993 |max_reward: 240.93049888674892 |ts: 1248\n",
      "   NEW MAX saving model   : 290.60264120217823\n",
      "28 |reward: -44.49619604757708 |last: -27.043466945808568 |max_reward: 290.60264120217823 |ts: 326\n",
      "29 |reward: -87.84103354385822 |last: -29.139934759534416 |max_reward: 290.60264120217823 |ts: 85\n",
      "30 |reward: -35.59943894328863 |last: -29.355251565659557 |max_reward: 290.60264120217823 |ts: 320\n",
      "31 |reward: -83.17353138716209 |last: -31.09132510828867 |max_reward: 290.60264120217823 |ts: 194\n",
      "32 |reward: -75.68529517678732 |last: -32.48488667292926 |max_reward: 290.60264120217823 |ts: 147\n"
     ]
    }
   ],
   "source": [
    "import gym\n",
    "from model import Network\n",
    "import numpy as np\n",
    "from sharedOptimizer import sharedAdam\n",
    "import time\n",
    "import torch\n",
    "import torch.multiprocessing as mp\n",
    "from train import train\n",
    "from test import test\n",
    "import os\n",
    "os.environ[\"OMP_NUM_THREADS\"] = \"1\"\n",
    "\n",
    "class params:\n",
    "    env_name = \"BipedalWalker-v2\"\n",
    "    n_steps = 20\n",
    "    gamma = 0.99\n",
    "    tau = 0.98\n",
    "    lr = 0.0001\n",
    "    seed = 1\n",
    "    processes_amount = 8\n",
    "    max_episode_length = 10000\n",
    "    device = torch.device(\"cuda\" if torch.cuda.is_available() else \"cpu\")\n",
    "    solved_score = 300\n",
    "\n",
    "torch.manual_seed(params.seed)\n",
    "env = gym.make(params.env_name)\n",
    "print(\"observation = \", env.observation_space.shape[0])\n",
    "print(\"action_space = \", env.action_space)\n",
    "shared_model = Network(env.observation_space.shape[0], env.action_space, params.device).to(params.device)\n",
    "shared_model.share_memory()\n",
    "shared_optimizer = sharedAdam(shared_model.parameters(), lr = params.lr)\n",
    "shared_optimizer.share_memory()\n",
    "\n",
    "processes = []\n",
    "p = mp.Process(target=test, args=(params,shared_model))\n",
    "p.start()\n",
    "processes.append(p)\n",
    "time.sleep(0.2)\n",
    "\n",
    "for i in range(params.processes_amount):\n",
    "    p = mp.Process(target=train, args=(i, params, shared_model, shared_optimizer))\n",
    "    p.start()\n",
    "    processes.append(p)\n",
    "    time.sleep(0.2)\n",
    "for p in processes:\n",
    "    time.sleep(0.2)\n",
    "    p.join()"
   ]
  },
  {
   "cell_type": "code",
   "execution_count": null,
   "metadata": {},
   "outputs": [],
   "source": []
  }
 ],
 "metadata": {
  "kernelspec": {
   "display_name": "Python (deep_reinforcement)",
   "language": "python",
   "name": "deep_reinforcement"
  },
  "language_info": {
   "codemirror_mode": {
    "name": "ipython",
    "version": 3
   },
   "file_extension": ".py",
   "mimetype": "text/x-python",
   "name": "python",
   "nbconvert_exporter": "python",
   "pygments_lexer": "ipython3",
   "version": "3.7.3"
  }
 },
 "nbformat": 4,
 "nbformat_minor": 2
}
